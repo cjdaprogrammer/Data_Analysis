{
 "cells": [
  {
   "cell_type": "code",
   "execution_count": 22,
   "id": "38334640-0af4-480b-a0c0-7a1fdb5c2691",
   "metadata": {},
   "outputs": [
    {
     "name": "stdout",
     "output_type": "stream",
     "text": [
      "Hello World\n"
     ]
    }
   ],
   "source": [
    "print('Hello World')"
   ]
  },
  {
   "cell_type": "code",
   "execution_count": 23,
   "id": "bd9e2083-4df0-4084-a4f5-92d4c4eb8b25",
   "metadata": {},
   "outputs": [
    {
     "name": "stdout",
     "output_type": "stream",
     "text": [
      "Defaulting to user installation because normal site-packages is not writeable\n",
      "Requirement already satisfied: numpy in c:\\users\\lab4-studentpc29\\appdata\\local\\packages\\pythonsoftwarefoundation.python.3.13_qbz5n2kfra8p0\\localcache\\local-packages\\python313\\site-packages (2.2.2)\n",
      "Note: you may need to restart the kernel to use updated packages.\n"
     ]
    },
    {
     "name": "stderr",
     "output_type": "stream",
     "text": [
      "\n",
      "[notice] A new release of pip is available: 24.3.1 -> 25.0\n",
      "[notice] To update, run: C:\\Users\\LAB4-StudentPC29\\AppData\\Local\\Microsoft\\WindowsApps\\PythonSoftwareFoundation.Python.3.13_qbz5n2kfra8p0\\python.exe -m pip install --upgrade pip\n"
     ]
    }
   ],
   "source": [
    "pip install numpy"
   ]
  },
  {
   "cell_type": "code",
   "execution_count": 24,
   "id": "9c18de56-ec0e-4f94-9e97-2094b6fcd116",
   "metadata": {},
   "outputs": [
    {
     "name": "stdout",
     "output_type": "stream",
     "text": [
      "Defaulting to user installation because normal site-packages is not writeable\n",
      "Requirement already satisfied: pandas in c:\\users\\lab4-studentpc29\\appdata\\local\\packages\\pythonsoftwarefoundation.python.3.13_qbz5n2kfra8p0\\localcache\\local-packages\\python313\\site-packages (2.2.3)\n",
      "Requirement already satisfied: numpy>=1.26.0 in c:\\users\\lab4-studentpc29\\appdata\\local\\packages\\pythonsoftwarefoundation.python.3.13_qbz5n2kfra8p0\\localcache\\local-packages\\python313\\site-packages (from pandas) (2.2.2)\n",
      "Requirement already satisfied: python-dateutil>=2.8.2 in c:\\users\\lab4-studentpc29\\appdata\\local\\packages\\pythonsoftwarefoundation.python.3.13_qbz5n2kfra8p0\\localcache\\local-packages\\python313\\site-packages (from pandas) (2.9.0.post0)\n",
      "Requirement already satisfied: pytz>=2020.1 in c:\\users\\lab4-studentpc29\\appdata\\local\\packages\\pythonsoftwarefoundation.python.3.13_qbz5n2kfra8p0\\localcache\\local-packages\\python313\\site-packages (from pandas) (2024.2)\n",
      "Requirement already satisfied: tzdata>=2022.7 in c:\\users\\lab4-studentpc29\\appdata\\local\\packages\\pythonsoftwarefoundation.python.3.13_qbz5n2kfra8p0\\localcache\\local-packages\\python313\\site-packages (from pandas) (2024.2)\n",
      "Requirement already satisfied: six>=1.5 in c:\\users\\lab4-studentpc29\\appdata\\local\\packages\\pythonsoftwarefoundation.python.3.13_qbz5n2kfra8p0\\localcache\\local-packages\\python313\\site-packages (from python-dateutil>=2.8.2->pandas) (1.17.0)\n",
      "Note: you may need to restart the kernel to use updated packages.\n"
     ]
    },
    {
     "name": "stderr",
     "output_type": "stream",
     "text": [
      "\n",
      "[notice] A new release of pip is available: 24.3.1 -> 25.0\n",
      "[notice] To update, run: C:\\Users\\LAB4-StudentPC29\\AppData\\Local\\Microsoft\\WindowsApps\\PythonSoftwareFoundation.Python.3.13_qbz5n2kfra8p0\\python.exe -m pip install --upgrade pip\n"
     ]
    }
   ],
   "source": [
    "pip install pandas\n"
   ]
  },
  {
   "cell_type": "code",
   "execution_count": 25,
   "id": "8e3ad948-c72d-4f49-ba4c-f60940d172cd",
   "metadata": {},
   "outputs": [
    {
     "name": "stdout",
     "output_type": "stream",
     "text": [
      "Defaulting to user installation because normal site-packages is not writeable\n",
      "Requirement already satisfied: seaborn in c:\\users\\lab4-studentpc29\\appdata\\local\\packages\\pythonsoftwarefoundation.python.3.13_qbz5n2kfra8p0\\localcache\\local-packages\\python313\\site-packages (0.13.2)\n",
      "Requirement already satisfied: numpy!=1.24.0,>=1.20 in c:\\users\\lab4-studentpc29\\appdata\\local\\packages\\pythonsoftwarefoundation.python.3.13_qbz5n2kfra8p0\\localcache\\local-packages\\python313\\site-packages (from seaborn) (2.2.2)\n",
      "Requirement already satisfied: pandas>=1.2 in c:\\users\\lab4-studentpc29\\appdata\\local\\packages\\pythonsoftwarefoundation.python.3.13_qbz5n2kfra8p0\\localcache\\local-packages\\python313\\site-packages (from seaborn) (2.2.3)\n",
      "Requirement already satisfied: matplotlib!=3.6.1,>=3.4 in c:\\users\\lab4-studentpc29\\appdata\\local\\packages\\pythonsoftwarefoundation.python.3.13_qbz5n2kfra8p0\\localcache\\local-packages\\python313\\site-packages (from seaborn) (3.10.0)\n",
      "Requirement already satisfied: contourpy>=1.0.1 in c:\\users\\lab4-studentpc29\\appdata\\local\\packages\\pythonsoftwarefoundation.python.3.13_qbz5n2kfra8p0\\localcache\\local-packages\\python313\\site-packages (from matplotlib!=3.6.1,>=3.4->seaborn) (1.3.1)\n",
      "Requirement already satisfied: cycler>=0.10 in c:\\users\\lab4-studentpc29\\appdata\\local\\packages\\pythonsoftwarefoundation.python.3.13_qbz5n2kfra8p0\\localcache\\local-packages\\python313\\site-packages (from matplotlib!=3.6.1,>=3.4->seaborn) (0.12.1)\n",
      "Requirement already satisfied: fonttools>=4.22.0 in c:\\users\\lab4-studentpc29\\appdata\\local\\packages\\pythonsoftwarefoundation.python.3.13_qbz5n2kfra8p0\\localcache\\local-packages\\python313\\site-packages (from matplotlib!=3.6.1,>=3.4->seaborn) (4.55.3)\n",
      "Requirement already satisfied: kiwisolver>=1.3.1 in c:\\users\\lab4-studentpc29\\appdata\\local\\packages\\pythonsoftwarefoundation.python.3.13_qbz5n2kfra8p0\\localcache\\local-packages\\python313\\site-packages (from matplotlib!=3.6.1,>=3.4->seaborn) (1.4.8)\n",
      "Requirement already satisfied: packaging>=20.0 in c:\\users\\lab4-studentpc29\\appdata\\local\\packages\\pythonsoftwarefoundation.python.3.13_qbz5n2kfra8p0\\localcache\\local-packages\\python313\\site-packages (from matplotlib!=3.6.1,>=3.4->seaborn) (24.2)\n",
      "Requirement already satisfied: pillow>=8 in c:\\users\\lab4-studentpc29\\appdata\\local\\packages\\pythonsoftwarefoundation.python.3.13_qbz5n2kfra8p0\\localcache\\local-packages\\python313\\site-packages (from matplotlib!=3.6.1,>=3.4->seaborn) (11.1.0)\n",
      "Requirement already satisfied: pyparsing>=2.3.1 in c:\\users\\lab4-studentpc29\\appdata\\local\\packages\\pythonsoftwarefoundation.python.3.13_qbz5n2kfra8p0\\localcache\\local-packages\\python313\\site-packages (from matplotlib!=3.6.1,>=3.4->seaborn) (3.2.1)\n",
      "Requirement already satisfied: python-dateutil>=2.7 in c:\\users\\lab4-studentpc29\\appdata\\local\\packages\\pythonsoftwarefoundation.python.3.13_qbz5n2kfra8p0\\localcache\\local-packages\\python313\\site-packages (from matplotlib!=3.6.1,>=3.4->seaborn) (2.9.0.post0)\n",
      "Requirement already satisfied: pytz>=2020.1 in c:\\users\\lab4-studentpc29\\appdata\\local\\packages\\pythonsoftwarefoundation.python.3.13_qbz5n2kfra8p0\\localcache\\local-packages\\python313\\site-packages (from pandas>=1.2->seaborn) (2024.2)\n",
      "Requirement already satisfied: tzdata>=2022.7 in c:\\users\\lab4-studentpc29\\appdata\\local\\packages\\pythonsoftwarefoundation.python.3.13_qbz5n2kfra8p0\\localcache\\local-packages\\python313\\site-packages (from pandas>=1.2->seaborn) (2024.2)\n",
      "Requirement already satisfied: six>=1.5 in c:\\users\\lab4-studentpc29\\appdata\\local\\packages\\pythonsoftwarefoundation.python.3.13_qbz5n2kfra8p0\\localcache\\local-packages\\python313\\site-packages (from python-dateutil>=2.7->matplotlib!=3.6.1,>=3.4->seaborn) (1.17.0)\n",
      "Note: you may need to restart the kernel to use updated packages.\n"
     ]
    },
    {
     "name": "stderr",
     "output_type": "stream",
     "text": [
      "\n",
      "[notice] A new release of pip is available: 24.3.1 -> 25.0\n",
      "[notice] To update, run: C:\\Users\\LAB4-StudentPC29\\AppData\\Local\\Microsoft\\WindowsApps\\PythonSoftwareFoundation.Python.3.13_qbz5n2kfra8p0\\python.exe -m pip install --upgrade pip\n"
     ]
    }
   ],
   "source": [
    "pip install seaborn\n"
   ]
  },
  {
   "cell_type": "code",
   "execution_count": 26,
   "id": "9199a4df-7b82-450f-a322-ac2c42ad1dff",
   "metadata": {},
   "outputs": [
    {
     "name": "stdout",
     "output_type": "stream",
     "text": [
      "Defaulting to user installation because normal site-packages is not writeable\n",
      "Requirement already satisfied: matplotlib in c:\\users\\lab4-studentpc29\\appdata\\local\\packages\\pythonsoftwarefoundation.python.3.13_qbz5n2kfra8p0\\localcache\\local-packages\\python313\\site-packages (3.10.0)\n",
      "Requirement already satisfied: contourpy>=1.0.1 in c:\\users\\lab4-studentpc29\\appdata\\local\\packages\\pythonsoftwarefoundation.python.3.13_qbz5n2kfra8p0\\localcache\\local-packages\\python313\\site-packages (from matplotlib) (1.3.1)\n",
      "Requirement already satisfied: cycler>=0.10 in c:\\users\\lab4-studentpc29\\appdata\\local\\packages\\pythonsoftwarefoundation.python.3.13_qbz5n2kfra8p0\\localcache\\local-packages\\python313\\site-packages (from matplotlib) (0.12.1)\n",
      "Requirement already satisfied: fonttools>=4.22.0 in c:\\users\\lab4-studentpc29\\appdata\\local\\packages\\pythonsoftwarefoundation.python.3.13_qbz5n2kfra8p0\\localcache\\local-packages\\python313\\site-packages (from matplotlib) (4.55.3)\n",
      "Requirement already satisfied: kiwisolver>=1.3.1 in c:\\users\\lab4-studentpc29\\appdata\\local\\packages\\pythonsoftwarefoundation.python.3.13_qbz5n2kfra8p0\\localcache\\local-packages\\python313\\site-packages (from matplotlib) (1.4.8)\n",
      "Requirement already satisfied: numpy>=1.23 in c:\\users\\lab4-studentpc29\\appdata\\local\\packages\\pythonsoftwarefoundation.python.3.13_qbz5n2kfra8p0\\localcache\\local-packages\\python313\\site-packages (from matplotlib) (2.2.2)\n",
      "Requirement already satisfied: packaging>=20.0 in c:\\users\\lab4-studentpc29\\appdata\\local\\packages\\pythonsoftwarefoundation.python.3.13_qbz5n2kfra8p0\\localcache\\local-packages\\python313\\site-packages (from matplotlib) (24.2)\n",
      "Requirement already satisfied: pillow>=8 in c:\\users\\lab4-studentpc29\\appdata\\local\\packages\\pythonsoftwarefoundation.python.3.13_qbz5n2kfra8p0\\localcache\\local-packages\\python313\\site-packages (from matplotlib) (11.1.0)\n",
      "Requirement already satisfied: pyparsing>=2.3.1 in c:\\users\\lab4-studentpc29\\appdata\\local\\packages\\pythonsoftwarefoundation.python.3.13_qbz5n2kfra8p0\\localcache\\local-packages\\python313\\site-packages (from matplotlib) (3.2.1)\n",
      "Requirement already satisfied: python-dateutil>=2.7 in c:\\users\\lab4-studentpc29\\appdata\\local\\packages\\pythonsoftwarefoundation.python.3.13_qbz5n2kfra8p0\\localcache\\local-packages\\python313\\site-packages (from matplotlib) (2.9.0.post0)\n",
      "Requirement already satisfied: six>=1.5 in c:\\users\\lab4-studentpc29\\appdata\\local\\packages\\pythonsoftwarefoundation.python.3.13_qbz5n2kfra8p0\\localcache\\local-packages\\python313\\site-packages (from python-dateutil>=2.7->matplotlib) (1.17.0)\n",
      "Note: you may need to restart the kernel to use updated packages.\n"
     ]
    },
    {
     "name": "stderr",
     "output_type": "stream",
     "text": [
      "\n",
      "[notice] A new release of pip is available: 24.3.1 -> 25.0\n",
      "[notice] To update, run: C:\\Users\\LAB4-StudentPC29\\AppData\\Local\\Microsoft\\WindowsApps\\PythonSoftwareFoundation.Python.3.13_qbz5n2kfra8p0\\python.exe -m pip install --upgrade pip\n"
     ]
    }
   ],
   "source": [
    "pip install matplotlib"
   ]
  },
  {
   "cell_type": "code",
   "execution_count": 27,
   "id": "10887f0b-0910-4f37-914c-5cc2b74408d0",
   "metadata": {},
   "outputs": [],
   "source": []
  },
  {
   "cell_type": "code",
   "execution_count": 28,
   "id": "48ab2224-f321-47f8-93aa-c325482411b6",
   "metadata": {},
   "outputs": [],
   "source": [
    "import pandas as pd\n",
    "birds = pd.read_csv('datasets\\\\penguins.csv')"
   ]
  },
  {
   "cell_type": "code",
   "execution_count": 29,
   "id": "a6d8e401-ee79-4946-adce-b366aa9e2527",
   "metadata": {},
   "outputs": [
    {
     "data": {
      "text/html": [
       "<div>\n",
       "<style scoped>\n",
       "    .dataframe tbody tr th:only-of-type {\n",
       "        vertical-align: middle;\n",
       "    }\n",
       "\n",
       "    .dataframe tbody tr th {\n",
       "        vertical-align: top;\n",
       "    }\n",
       "\n",
       "    .dataframe thead th {\n",
       "        text-align: right;\n",
       "    }\n",
       "</style>\n",
       "<table border=\"1\" class=\"dataframe\">\n",
       "  <thead>\n",
       "    <tr style=\"text-align: right;\">\n",
       "      <th></th>\n",
       "      <th>rowid</th>\n",
       "      <th>species</th>\n",
       "      <th>island</th>\n",
       "      <th>bill_length_mm</th>\n",
       "      <th>bill_depth_mm</th>\n",
       "      <th>flipper_length_mm</th>\n",
       "      <th>body_mass_g</th>\n",
       "      <th>sex</th>\n",
       "      <th>year</th>\n",
       "    </tr>\n",
       "  </thead>\n",
       "  <tbody>\n",
       "    <tr>\n",
       "      <th>0</th>\n",
       "      <td>1</td>\n",
       "      <td>Adelie</td>\n",
       "      <td>Torgersen</td>\n",
       "      <td>39.1</td>\n",
       "      <td>18.7</td>\n",
       "      <td>181.0</td>\n",
       "      <td>3750.0</td>\n",
       "      <td>male</td>\n",
       "      <td>2007</td>\n",
       "    </tr>\n",
       "    <tr>\n",
       "      <th>1</th>\n",
       "      <td>2</td>\n",
       "      <td>Adelie</td>\n",
       "      <td>Torgersen</td>\n",
       "      <td>39.5</td>\n",
       "      <td>17.4</td>\n",
       "      <td>186.0</td>\n",
       "      <td>3800.0</td>\n",
       "      <td>female</td>\n",
       "      <td>2007</td>\n",
       "    </tr>\n",
       "    <tr>\n",
       "      <th>2</th>\n",
       "      <td>3</td>\n",
       "      <td>Adelie</td>\n",
       "      <td>Torgersen</td>\n",
       "      <td>40.3</td>\n",
       "      <td>18.0</td>\n",
       "      <td>195.0</td>\n",
       "      <td>3250.0</td>\n",
       "      <td>female</td>\n",
       "      <td>2007</td>\n",
       "    </tr>\n",
       "    <tr>\n",
       "      <th>3</th>\n",
       "      <td>4</td>\n",
       "      <td>Adelie</td>\n",
       "      <td>Torgersen</td>\n",
       "      <td>NaN</td>\n",
       "      <td>NaN</td>\n",
       "      <td>NaN</td>\n",
       "      <td>NaN</td>\n",
       "      <td>NaN</td>\n",
       "      <td>2007</td>\n",
       "    </tr>\n",
       "    <tr>\n",
       "      <th>4</th>\n",
       "      <td>5</td>\n",
       "      <td>Adelie</td>\n",
       "      <td>Torgersen</td>\n",
       "      <td>36.7</td>\n",
       "      <td>19.3</td>\n",
       "      <td>193.0</td>\n",
       "      <td>3450.0</td>\n",
       "      <td>female</td>\n",
       "      <td>2007</td>\n",
       "    </tr>\n",
       "    <tr>\n",
       "      <th>...</th>\n",
       "      <td>...</td>\n",
       "      <td>...</td>\n",
       "      <td>...</td>\n",
       "      <td>...</td>\n",
       "      <td>...</td>\n",
       "      <td>...</td>\n",
       "      <td>...</td>\n",
       "      <td>...</td>\n",
       "      <td>...</td>\n",
       "    </tr>\n",
       "    <tr>\n",
       "      <th>339</th>\n",
       "      <td>340</td>\n",
       "      <td>Chinstrap</td>\n",
       "      <td>Dream</td>\n",
       "      <td>55.8</td>\n",
       "      <td>19.8</td>\n",
       "      <td>207.0</td>\n",
       "      <td>4000.0</td>\n",
       "      <td>male</td>\n",
       "      <td>2009</td>\n",
       "    </tr>\n",
       "    <tr>\n",
       "      <th>340</th>\n",
       "      <td>341</td>\n",
       "      <td>Chinstrap</td>\n",
       "      <td>Dream</td>\n",
       "      <td>43.5</td>\n",
       "      <td>18.1</td>\n",
       "      <td>202.0</td>\n",
       "      <td>3400.0</td>\n",
       "      <td>female</td>\n",
       "      <td>2009</td>\n",
       "    </tr>\n",
       "    <tr>\n",
       "      <th>341</th>\n",
       "      <td>342</td>\n",
       "      <td>Chinstrap</td>\n",
       "      <td>Dream</td>\n",
       "      <td>49.6</td>\n",
       "      <td>18.2</td>\n",
       "      <td>193.0</td>\n",
       "      <td>3775.0</td>\n",
       "      <td>male</td>\n",
       "      <td>2009</td>\n",
       "    </tr>\n",
       "    <tr>\n",
       "      <th>342</th>\n",
       "      <td>343</td>\n",
       "      <td>Chinstrap</td>\n",
       "      <td>Dream</td>\n",
       "      <td>50.8</td>\n",
       "      <td>19.0</td>\n",
       "      <td>210.0</td>\n",
       "      <td>4100.0</td>\n",
       "      <td>male</td>\n",
       "      <td>2009</td>\n",
       "    </tr>\n",
       "    <tr>\n",
       "      <th>343</th>\n",
       "      <td>344</td>\n",
       "      <td>Chinstrap</td>\n",
       "      <td>Dream</td>\n",
       "      <td>50.2</td>\n",
       "      <td>18.7</td>\n",
       "      <td>198.0</td>\n",
       "      <td>3775.0</td>\n",
       "      <td>female</td>\n",
       "      <td>2009</td>\n",
       "    </tr>\n",
       "  </tbody>\n",
       "</table>\n",
       "<p>344 rows × 9 columns</p>\n",
       "</div>"
      ],
      "text/plain": [
       "     rowid    species     island  bill_length_mm  bill_depth_mm  \\\n",
       "0        1     Adelie  Torgersen            39.1           18.7   \n",
       "1        2     Adelie  Torgersen            39.5           17.4   \n",
       "2        3     Adelie  Torgersen            40.3           18.0   \n",
       "3        4     Adelie  Torgersen             NaN            NaN   \n",
       "4        5     Adelie  Torgersen            36.7           19.3   \n",
       "..     ...        ...        ...             ...            ...   \n",
       "339    340  Chinstrap      Dream            55.8           19.8   \n",
       "340    341  Chinstrap      Dream            43.5           18.1   \n",
       "341    342  Chinstrap      Dream            49.6           18.2   \n",
       "342    343  Chinstrap      Dream            50.8           19.0   \n",
       "343    344  Chinstrap      Dream            50.2           18.7   \n",
       "\n",
       "     flipper_length_mm  body_mass_g     sex  year  \n",
       "0                181.0       3750.0    male  2007  \n",
       "1                186.0       3800.0  female  2007  \n",
       "2                195.0       3250.0  female  2007  \n",
       "3                  NaN          NaN     NaN  2007  \n",
       "4                193.0       3450.0  female  2007  \n",
       "..                 ...          ...     ...   ...  \n",
       "339              207.0       4000.0    male  2009  \n",
       "340              202.0       3400.0  female  2009  \n",
       "341              193.0       3775.0    male  2009  \n",
       "342              210.0       4100.0    male  2009  \n",
       "343              198.0       3775.0  female  2009  \n",
       "\n",
       "[344 rows x 9 columns]"
      ]
     },
     "execution_count": 29,
     "metadata": {},
     "output_type": "execute_result"
    }
   ],
   "source": [
    "birds"
   ]
  },
  {
   "cell_type": "code",
   "execution_count": 30,
   "id": "06388c17-98e2-4bf7-96b3-61d15055f9af",
   "metadata": {},
   "outputs": [
    {
     "name": "stdout",
     "output_type": "stream",
     "text": [
      "<class 'pandas.core.frame.DataFrame'>\n",
      "RangeIndex: 344 entries, 0 to 343\n",
      "Data columns (total 9 columns):\n",
      " #   Column             Non-Null Count  Dtype  \n",
      "---  ------             --------------  -----  \n",
      " 0   rowid              344 non-null    int64  \n",
      " 1   species            344 non-null    object \n",
      " 2   island             344 non-null    object \n",
      " 3   bill_length_mm     342 non-null    float64\n",
      " 4   bill_depth_mm      342 non-null    float64\n",
      " 5   flipper_length_mm  342 non-null    float64\n",
      " 6   body_mass_g        342 non-null    float64\n",
      " 7   sex                333 non-null    object \n",
      " 8   year               344 non-null    int64  \n",
      "dtypes: float64(4), int64(2), object(3)\n",
      "memory usage: 24.3+ KB\n"
     ]
    }
   ],
   "source": [
    "birds.info()"
   ]
  },
  {
   "cell_type": "code",
   "execution_count": 31,
   "id": "34187ad2-e32e-4d43-8018-a309bbf05d14",
   "metadata": {},
   "outputs": [
    {
     "data": {
      "text/html": [
       "<div>\n",
       "<style scoped>\n",
       "    .dataframe tbody tr th:only-of-type {\n",
       "        vertical-align: middle;\n",
       "    }\n",
       "\n",
       "    .dataframe tbody tr th {\n",
       "        vertical-align: top;\n",
       "    }\n",
       "\n",
       "    .dataframe thead th {\n",
       "        text-align: right;\n",
       "    }\n",
       "</style>\n",
       "<table border=\"1\" class=\"dataframe\">\n",
       "  <thead>\n",
       "    <tr style=\"text-align: right;\">\n",
       "      <th></th>\n",
       "      <th>rowid</th>\n",
       "      <th>bill_length_mm</th>\n",
       "      <th>bill_depth_mm</th>\n",
       "      <th>flipper_length_mm</th>\n",
       "      <th>body_mass_g</th>\n",
       "      <th>year</th>\n",
       "    </tr>\n",
       "  </thead>\n",
       "  <tbody>\n",
       "    <tr>\n",
       "      <th>count</th>\n",
       "      <td>344.000000</td>\n",
       "      <td>342.000000</td>\n",
       "      <td>342.000000</td>\n",
       "      <td>342.000000</td>\n",
       "      <td>342.000000</td>\n",
       "      <td>344.000000</td>\n",
       "    </tr>\n",
       "    <tr>\n",
       "      <th>mean</th>\n",
       "      <td>172.500000</td>\n",
       "      <td>43.921930</td>\n",
       "      <td>17.151170</td>\n",
       "      <td>200.915205</td>\n",
       "      <td>4201.754386</td>\n",
       "      <td>2008.029070</td>\n",
       "    </tr>\n",
       "    <tr>\n",
       "      <th>std</th>\n",
       "      <td>99.448479</td>\n",
       "      <td>5.459584</td>\n",
       "      <td>1.974793</td>\n",
       "      <td>14.061714</td>\n",
       "      <td>801.954536</td>\n",
       "      <td>0.818356</td>\n",
       "    </tr>\n",
       "    <tr>\n",
       "      <th>min</th>\n",
       "      <td>1.000000</td>\n",
       "      <td>32.100000</td>\n",
       "      <td>13.100000</td>\n",
       "      <td>172.000000</td>\n",
       "      <td>2700.000000</td>\n",
       "      <td>2007.000000</td>\n",
       "    </tr>\n",
       "    <tr>\n",
       "      <th>25%</th>\n",
       "      <td>86.750000</td>\n",
       "      <td>39.225000</td>\n",
       "      <td>15.600000</td>\n",
       "      <td>190.000000</td>\n",
       "      <td>3550.000000</td>\n",
       "      <td>2007.000000</td>\n",
       "    </tr>\n",
       "    <tr>\n",
       "      <th>50%</th>\n",
       "      <td>172.500000</td>\n",
       "      <td>44.450000</td>\n",
       "      <td>17.300000</td>\n",
       "      <td>197.000000</td>\n",
       "      <td>4050.000000</td>\n",
       "      <td>2008.000000</td>\n",
       "    </tr>\n",
       "    <tr>\n",
       "      <th>75%</th>\n",
       "      <td>258.250000</td>\n",
       "      <td>48.500000</td>\n",
       "      <td>18.700000</td>\n",
       "      <td>213.000000</td>\n",
       "      <td>4750.000000</td>\n",
       "      <td>2009.000000</td>\n",
       "    </tr>\n",
       "    <tr>\n",
       "      <th>max</th>\n",
       "      <td>344.000000</td>\n",
       "      <td>59.600000</td>\n",
       "      <td>21.500000</td>\n",
       "      <td>231.000000</td>\n",
       "      <td>6300.000000</td>\n",
       "      <td>2009.000000</td>\n",
       "    </tr>\n",
       "  </tbody>\n",
       "</table>\n",
       "</div>"
      ],
      "text/plain": [
       "            rowid  bill_length_mm  bill_depth_mm  flipper_length_mm  \\\n",
       "count  344.000000      342.000000     342.000000         342.000000   \n",
       "mean   172.500000       43.921930      17.151170         200.915205   \n",
       "std     99.448479        5.459584       1.974793          14.061714   \n",
       "min      1.000000       32.100000      13.100000         172.000000   \n",
       "25%     86.750000       39.225000      15.600000         190.000000   \n",
       "50%    172.500000       44.450000      17.300000         197.000000   \n",
       "75%    258.250000       48.500000      18.700000         213.000000   \n",
       "max    344.000000       59.600000      21.500000         231.000000   \n",
       "\n",
       "       body_mass_g         year  \n",
       "count   342.000000   344.000000  \n",
       "mean   4201.754386  2008.029070  \n",
       "std     801.954536     0.818356  \n",
       "min    2700.000000  2007.000000  \n",
       "25%    3550.000000  2007.000000  \n",
       "50%    4050.000000  2008.000000  \n",
       "75%    4750.000000  2009.000000  \n",
       "max    6300.000000  2009.000000  "
      ]
     },
     "execution_count": 31,
     "metadata": {},
     "output_type": "execute_result"
    }
   ],
   "source": [
    "birds.describe()"
   ]
  },
  {
   "cell_type": "code",
   "execution_count": 32,
   "id": "2895ce7c-89f5-4e2a-bd08-b6a512f54b7c",
   "metadata": {},
   "outputs": [
    {
     "data": {
      "text/plain": [
       "0         Adelie\n",
       "1         Adelie\n",
       "2         Adelie\n",
       "3         Adelie\n",
       "4         Adelie\n",
       "         ...    \n",
       "339    Chinstrap\n",
       "340    Chinstrap\n",
       "341    Chinstrap\n",
       "342    Chinstrap\n",
       "343    Chinstrap\n",
       "Name: species, Length: 344, dtype: object"
      ]
     },
     "execution_count": 32,
     "metadata": {},
     "output_type": "execute_result"
    }
   ],
   "source": [
    "birds ['species']"
   ]
  },
  {
   "cell_type": "code",
   "execution_count": 33,
   "id": "13fff164-c9c6-4328-a0a0-af53205f48cc",
   "metadata": {},
   "outputs": [
    {
     "data": {
      "text/html": [
       "<div>\n",
       "<style scoped>\n",
       "    .dataframe tbody tr th:only-of-type {\n",
       "        vertical-align: middle;\n",
       "    }\n",
       "\n",
       "    .dataframe tbody tr th {\n",
       "        vertical-align: top;\n",
       "    }\n",
       "\n",
       "    .dataframe thead th {\n",
       "        text-align: right;\n",
       "    }\n",
       "</style>\n",
       "<table border=\"1\" class=\"dataframe\">\n",
       "  <thead>\n",
       "    <tr style=\"text-align: right;\">\n",
       "      <th></th>\n",
       "      <th>count</th>\n",
       "      <th>mean</th>\n",
       "      <th>std</th>\n",
       "      <th>min</th>\n",
       "      <th>25%</th>\n",
       "      <th>50%</th>\n",
       "      <th>75%</th>\n",
       "      <th>max</th>\n",
       "    </tr>\n",
       "  </thead>\n",
       "  <tbody>\n",
       "    <tr>\n",
       "      <th>rowid</th>\n",
       "      <td>344.0</td>\n",
       "      <td>172.500000</td>\n",
       "      <td>99.448479</td>\n",
       "      <td>1.0</td>\n",
       "      <td>86.750</td>\n",
       "      <td>172.50</td>\n",
       "      <td>258.25</td>\n",
       "      <td>344.0</td>\n",
       "    </tr>\n",
       "    <tr>\n",
       "      <th>bill_length_mm</th>\n",
       "      <td>342.0</td>\n",
       "      <td>43.921930</td>\n",
       "      <td>5.459584</td>\n",
       "      <td>32.1</td>\n",
       "      <td>39.225</td>\n",
       "      <td>44.45</td>\n",
       "      <td>48.50</td>\n",
       "      <td>59.6</td>\n",
       "    </tr>\n",
       "    <tr>\n",
       "      <th>bill_depth_mm</th>\n",
       "      <td>342.0</td>\n",
       "      <td>17.151170</td>\n",
       "      <td>1.974793</td>\n",
       "      <td>13.1</td>\n",
       "      <td>15.600</td>\n",
       "      <td>17.30</td>\n",
       "      <td>18.70</td>\n",
       "      <td>21.5</td>\n",
       "    </tr>\n",
       "    <tr>\n",
       "      <th>flipper_length_mm</th>\n",
       "      <td>342.0</td>\n",
       "      <td>200.915205</td>\n",
       "      <td>14.061714</td>\n",
       "      <td>172.0</td>\n",
       "      <td>190.000</td>\n",
       "      <td>197.00</td>\n",
       "      <td>213.00</td>\n",
       "      <td>231.0</td>\n",
       "    </tr>\n",
       "    <tr>\n",
       "      <th>body_mass_g</th>\n",
       "      <td>342.0</td>\n",
       "      <td>4201.754386</td>\n",
       "      <td>801.954536</td>\n",
       "      <td>2700.0</td>\n",
       "      <td>3550.000</td>\n",
       "      <td>4050.00</td>\n",
       "      <td>4750.00</td>\n",
       "      <td>6300.0</td>\n",
       "    </tr>\n",
       "    <tr>\n",
       "      <th>year</th>\n",
       "      <td>344.0</td>\n",
       "      <td>2008.029070</td>\n",
       "      <td>0.818356</td>\n",
       "      <td>2007.0</td>\n",
       "      <td>2007.000</td>\n",
       "      <td>2008.00</td>\n",
       "      <td>2009.00</td>\n",
       "      <td>2009.0</td>\n",
       "    </tr>\n",
       "  </tbody>\n",
       "</table>\n",
       "</div>"
      ],
      "text/plain": [
       "                   count         mean         std     min       25%      50%  \\\n",
       "rowid              344.0   172.500000   99.448479     1.0    86.750   172.50   \n",
       "bill_length_mm     342.0    43.921930    5.459584    32.1    39.225    44.45   \n",
       "bill_depth_mm      342.0    17.151170    1.974793    13.1    15.600    17.30   \n",
       "flipper_length_mm  342.0   200.915205   14.061714   172.0   190.000   197.00   \n",
       "body_mass_g        342.0  4201.754386  801.954536  2700.0  3550.000  4050.00   \n",
       "year               344.0  2008.029070    0.818356  2007.0  2007.000  2008.00   \n",
       "\n",
       "                       75%     max  \n",
       "rowid               258.25   344.0  \n",
       "bill_length_mm       48.50    59.6  \n",
       "bill_depth_mm        18.70    21.5  \n",
       "flipper_length_mm   213.00   231.0  \n",
       "body_mass_g        4750.00  6300.0  \n",
       "year               2009.00  2009.0  "
      ]
     },
     "execution_count": 33,
     "metadata": {},
     "output_type": "execute_result"
    }
   ],
   "source": [
    "birds.describe().T"
   ]
  },
  {
   "cell_type": "code",
   "execution_count": 34,
   "id": "a0e80037-d711-475d-8668-fb56ec94042b",
   "metadata": {},
   "outputs": [
    {
     "data": {
      "text/plain": [
       "0      3750.0\n",
       "1      3800.0\n",
       "2      3250.0\n",
       "3         NaN\n",
       "4      3450.0\n",
       "        ...  \n",
       "339    4000.0\n",
       "340    3400.0\n",
       "341    3775.0\n",
       "342    4100.0\n",
       "343    3775.0\n",
       "Name: body_mass_g, Length: 344, dtype: float64"
      ]
     },
     "execution_count": 34,
     "metadata": {},
     "output_type": "execute_result"
    }
   ],
   "source": [
    "birds ['body_mass_g']"
   ]
  },
  {
   "cell_type": "code",
   "execution_count": 35,
   "id": "9a480e08-4398-4f82-a416-d71f520f5e57",
   "metadata": {},
   "outputs": [],
   "source": [
    "birds['weight']= birds['body_mass_g'] / 1000"
   ]
  },
  {
   "cell_type": "code",
   "execution_count": 36,
   "id": "1266a519-e48b-4989-9f82-e254a737ca19",
   "metadata": {},
   "outputs": [
    {
     "data": {
      "text/html": [
       "<div>\n",
       "<style scoped>\n",
       "    .dataframe tbody tr th:only-of-type {\n",
       "        vertical-align: middle;\n",
       "    }\n",
       "\n",
       "    .dataframe tbody tr th {\n",
       "        vertical-align: top;\n",
       "    }\n",
       "\n",
       "    .dataframe thead th {\n",
       "        text-align: right;\n",
       "    }\n",
       "</style>\n",
       "<table border=\"1\" class=\"dataframe\">\n",
       "  <thead>\n",
       "    <tr style=\"text-align: right;\">\n",
       "      <th></th>\n",
       "      <th>rowid</th>\n",
       "      <th>species</th>\n",
       "      <th>island</th>\n",
       "      <th>bill_length_mm</th>\n",
       "      <th>bill_depth_mm</th>\n",
       "      <th>flipper_length_mm</th>\n",
       "      <th>body_mass_g</th>\n",
       "      <th>sex</th>\n",
       "      <th>year</th>\n",
       "      <th>weight</th>\n",
       "    </tr>\n",
       "  </thead>\n",
       "  <tbody>\n",
       "    <tr>\n",
       "      <th>0</th>\n",
       "      <td>1</td>\n",
       "      <td>Adelie</td>\n",
       "      <td>Torgersen</td>\n",
       "      <td>39.1</td>\n",
       "      <td>18.7</td>\n",
       "      <td>181.0</td>\n",
       "      <td>3750.0</td>\n",
       "      <td>male</td>\n",
       "      <td>2007</td>\n",
       "      <td>3.750</td>\n",
       "    </tr>\n",
       "    <tr>\n",
       "      <th>1</th>\n",
       "      <td>2</td>\n",
       "      <td>Adelie</td>\n",
       "      <td>Torgersen</td>\n",
       "      <td>39.5</td>\n",
       "      <td>17.4</td>\n",
       "      <td>186.0</td>\n",
       "      <td>3800.0</td>\n",
       "      <td>female</td>\n",
       "      <td>2007</td>\n",
       "      <td>3.800</td>\n",
       "    </tr>\n",
       "    <tr>\n",
       "      <th>2</th>\n",
       "      <td>3</td>\n",
       "      <td>Adelie</td>\n",
       "      <td>Torgersen</td>\n",
       "      <td>40.3</td>\n",
       "      <td>18.0</td>\n",
       "      <td>195.0</td>\n",
       "      <td>3250.0</td>\n",
       "      <td>female</td>\n",
       "      <td>2007</td>\n",
       "      <td>3.250</td>\n",
       "    </tr>\n",
       "    <tr>\n",
       "      <th>3</th>\n",
       "      <td>4</td>\n",
       "      <td>Adelie</td>\n",
       "      <td>Torgersen</td>\n",
       "      <td>NaN</td>\n",
       "      <td>NaN</td>\n",
       "      <td>NaN</td>\n",
       "      <td>NaN</td>\n",
       "      <td>NaN</td>\n",
       "      <td>2007</td>\n",
       "      <td>NaN</td>\n",
       "    </tr>\n",
       "    <tr>\n",
       "      <th>4</th>\n",
       "      <td>5</td>\n",
       "      <td>Adelie</td>\n",
       "      <td>Torgersen</td>\n",
       "      <td>36.7</td>\n",
       "      <td>19.3</td>\n",
       "      <td>193.0</td>\n",
       "      <td>3450.0</td>\n",
       "      <td>female</td>\n",
       "      <td>2007</td>\n",
       "      <td>3.450</td>\n",
       "    </tr>\n",
       "    <tr>\n",
       "      <th>...</th>\n",
       "      <td>...</td>\n",
       "      <td>...</td>\n",
       "      <td>...</td>\n",
       "      <td>...</td>\n",
       "      <td>...</td>\n",
       "      <td>...</td>\n",
       "      <td>...</td>\n",
       "      <td>...</td>\n",
       "      <td>...</td>\n",
       "      <td>...</td>\n",
       "    </tr>\n",
       "    <tr>\n",
       "      <th>339</th>\n",
       "      <td>340</td>\n",
       "      <td>Chinstrap</td>\n",
       "      <td>Dream</td>\n",
       "      <td>55.8</td>\n",
       "      <td>19.8</td>\n",
       "      <td>207.0</td>\n",
       "      <td>4000.0</td>\n",
       "      <td>male</td>\n",
       "      <td>2009</td>\n",
       "      <td>4.000</td>\n",
       "    </tr>\n",
       "    <tr>\n",
       "      <th>340</th>\n",
       "      <td>341</td>\n",
       "      <td>Chinstrap</td>\n",
       "      <td>Dream</td>\n",
       "      <td>43.5</td>\n",
       "      <td>18.1</td>\n",
       "      <td>202.0</td>\n",
       "      <td>3400.0</td>\n",
       "      <td>female</td>\n",
       "      <td>2009</td>\n",
       "      <td>3.400</td>\n",
       "    </tr>\n",
       "    <tr>\n",
       "      <th>341</th>\n",
       "      <td>342</td>\n",
       "      <td>Chinstrap</td>\n",
       "      <td>Dream</td>\n",
       "      <td>49.6</td>\n",
       "      <td>18.2</td>\n",
       "      <td>193.0</td>\n",
       "      <td>3775.0</td>\n",
       "      <td>male</td>\n",
       "      <td>2009</td>\n",
       "      <td>3.775</td>\n",
       "    </tr>\n",
       "    <tr>\n",
       "      <th>342</th>\n",
       "      <td>343</td>\n",
       "      <td>Chinstrap</td>\n",
       "      <td>Dream</td>\n",
       "      <td>50.8</td>\n",
       "      <td>19.0</td>\n",
       "      <td>210.0</td>\n",
       "      <td>4100.0</td>\n",
       "      <td>male</td>\n",
       "      <td>2009</td>\n",
       "      <td>4.100</td>\n",
       "    </tr>\n",
       "    <tr>\n",
       "      <th>343</th>\n",
       "      <td>344</td>\n",
       "      <td>Chinstrap</td>\n",
       "      <td>Dream</td>\n",
       "      <td>50.2</td>\n",
       "      <td>18.7</td>\n",
       "      <td>198.0</td>\n",
       "      <td>3775.0</td>\n",
       "      <td>female</td>\n",
       "      <td>2009</td>\n",
       "      <td>3.775</td>\n",
       "    </tr>\n",
       "  </tbody>\n",
       "</table>\n",
       "<p>344 rows × 10 columns</p>\n",
       "</div>"
      ],
      "text/plain": [
       "     rowid    species     island  bill_length_mm  bill_depth_mm  \\\n",
       "0        1     Adelie  Torgersen            39.1           18.7   \n",
       "1        2     Adelie  Torgersen            39.5           17.4   \n",
       "2        3     Adelie  Torgersen            40.3           18.0   \n",
       "3        4     Adelie  Torgersen             NaN            NaN   \n",
       "4        5     Adelie  Torgersen            36.7           19.3   \n",
       "..     ...        ...        ...             ...            ...   \n",
       "339    340  Chinstrap      Dream            55.8           19.8   \n",
       "340    341  Chinstrap      Dream            43.5           18.1   \n",
       "341    342  Chinstrap      Dream            49.6           18.2   \n",
       "342    343  Chinstrap      Dream            50.8           19.0   \n",
       "343    344  Chinstrap      Dream            50.2           18.7   \n",
       "\n",
       "     flipper_length_mm  body_mass_g     sex  year  weight  \n",
       "0                181.0       3750.0    male  2007   3.750  \n",
       "1                186.0       3800.0  female  2007   3.800  \n",
       "2                195.0       3250.0  female  2007   3.250  \n",
       "3                  NaN          NaN     NaN  2007     NaN  \n",
       "4                193.0       3450.0  female  2007   3.450  \n",
       "..                 ...          ...     ...   ...     ...  \n",
       "339              207.0       4000.0    male  2009   4.000  \n",
       "340              202.0       3400.0  female  2009   3.400  \n",
       "341              193.0       3775.0    male  2009   3.775  \n",
       "342              210.0       4100.0    male  2009   4.100  \n",
       "343              198.0       3775.0  female  2009   3.775  \n",
       "\n",
       "[344 rows x 10 columns]"
      ]
     },
     "execution_count": 36,
     "metadata": {},
     "output_type": "execute_result"
    }
   ],
   "source": [
    "birds"
   ]
  },
  {
   "cell_type": "code",
   "execution_count": 37,
   "id": "43f5b142-3cf8-4509-8edb-4ff5186c7dd4",
   "metadata": {},
   "outputs": [],
   "source": [
    "import numpy as np"
   ]
  },
  {
   "cell_type": "code",
   "execution_count": 38,
   "id": "50ba9db3-6849-4dba-8881-a601f022e798",
   "metadata": {},
   "outputs": [],
   "source": [
    "birds['weight']= np.round(birds['body_mass_g'] / 1000, 2)"
   ]
  },
  {
   "cell_type": "code",
   "execution_count": 39,
   "id": "8fef708e-8c83-403b-b4f9-bfb0e5aa3cf6",
   "metadata": {},
   "outputs": [
    {
     "data": {
      "text/html": [
       "<div>\n",
       "<style scoped>\n",
       "    .dataframe tbody tr th:only-of-type {\n",
       "        vertical-align: middle;\n",
       "    }\n",
       "\n",
       "    .dataframe tbody tr th {\n",
       "        vertical-align: top;\n",
       "    }\n",
       "\n",
       "    .dataframe thead th {\n",
       "        text-align: right;\n",
       "    }\n",
       "</style>\n",
       "<table border=\"1\" class=\"dataframe\">\n",
       "  <thead>\n",
       "    <tr style=\"text-align: right;\">\n",
       "      <th></th>\n",
       "      <th>rowid</th>\n",
       "      <th>species</th>\n",
       "      <th>island</th>\n",
       "      <th>bill_length_mm</th>\n",
       "      <th>bill_depth_mm</th>\n",
       "      <th>flipper_length_mm</th>\n",
       "      <th>body_mass_g</th>\n",
       "      <th>sex</th>\n",
       "      <th>year</th>\n",
       "      <th>weight</th>\n",
       "    </tr>\n",
       "  </thead>\n",
       "  <tbody>\n",
       "    <tr>\n",
       "      <th>0</th>\n",
       "      <td>1</td>\n",
       "      <td>Adelie</td>\n",
       "      <td>Torgersen</td>\n",
       "      <td>39.1</td>\n",
       "      <td>18.7</td>\n",
       "      <td>181.0</td>\n",
       "      <td>3750.0</td>\n",
       "      <td>male</td>\n",
       "      <td>2007</td>\n",
       "      <td>3.75</td>\n",
       "    </tr>\n",
       "    <tr>\n",
       "      <th>1</th>\n",
       "      <td>2</td>\n",
       "      <td>Adelie</td>\n",
       "      <td>Torgersen</td>\n",
       "      <td>39.5</td>\n",
       "      <td>17.4</td>\n",
       "      <td>186.0</td>\n",
       "      <td>3800.0</td>\n",
       "      <td>female</td>\n",
       "      <td>2007</td>\n",
       "      <td>3.80</td>\n",
       "    </tr>\n",
       "    <tr>\n",
       "      <th>2</th>\n",
       "      <td>3</td>\n",
       "      <td>Adelie</td>\n",
       "      <td>Torgersen</td>\n",
       "      <td>40.3</td>\n",
       "      <td>18.0</td>\n",
       "      <td>195.0</td>\n",
       "      <td>3250.0</td>\n",
       "      <td>female</td>\n",
       "      <td>2007</td>\n",
       "      <td>3.25</td>\n",
       "    </tr>\n",
       "    <tr>\n",
       "      <th>3</th>\n",
       "      <td>4</td>\n",
       "      <td>Adelie</td>\n",
       "      <td>Torgersen</td>\n",
       "      <td>NaN</td>\n",
       "      <td>NaN</td>\n",
       "      <td>NaN</td>\n",
       "      <td>NaN</td>\n",
       "      <td>NaN</td>\n",
       "      <td>2007</td>\n",
       "      <td>NaN</td>\n",
       "    </tr>\n",
       "    <tr>\n",
       "      <th>4</th>\n",
       "      <td>5</td>\n",
       "      <td>Adelie</td>\n",
       "      <td>Torgersen</td>\n",
       "      <td>36.7</td>\n",
       "      <td>19.3</td>\n",
       "      <td>193.0</td>\n",
       "      <td>3450.0</td>\n",
       "      <td>female</td>\n",
       "      <td>2007</td>\n",
       "      <td>3.45</td>\n",
       "    </tr>\n",
       "    <tr>\n",
       "      <th>...</th>\n",
       "      <td>...</td>\n",
       "      <td>...</td>\n",
       "      <td>...</td>\n",
       "      <td>...</td>\n",
       "      <td>...</td>\n",
       "      <td>...</td>\n",
       "      <td>...</td>\n",
       "      <td>...</td>\n",
       "      <td>...</td>\n",
       "      <td>...</td>\n",
       "    </tr>\n",
       "    <tr>\n",
       "      <th>339</th>\n",
       "      <td>340</td>\n",
       "      <td>Chinstrap</td>\n",
       "      <td>Dream</td>\n",
       "      <td>55.8</td>\n",
       "      <td>19.8</td>\n",
       "      <td>207.0</td>\n",
       "      <td>4000.0</td>\n",
       "      <td>male</td>\n",
       "      <td>2009</td>\n",
       "      <td>4.00</td>\n",
       "    </tr>\n",
       "    <tr>\n",
       "      <th>340</th>\n",
       "      <td>341</td>\n",
       "      <td>Chinstrap</td>\n",
       "      <td>Dream</td>\n",
       "      <td>43.5</td>\n",
       "      <td>18.1</td>\n",
       "      <td>202.0</td>\n",
       "      <td>3400.0</td>\n",
       "      <td>female</td>\n",
       "      <td>2009</td>\n",
       "      <td>3.40</td>\n",
       "    </tr>\n",
       "    <tr>\n",
       "      <th>341</th>\n",
       "      <td>342</td>\n",
       "      <td>Chinstrap</td>\n",
       "      <td>Dream</td>\n",
       "      <td>49.6</td>\n",
       "      <td>18.2</td>\n",
       "      <td>193.0</td>\n",
       "      <td>3775.0</td>\n",
       "      <td>male</td>\n",
       "      <td>2009</td>\n",
       "      <td>3.78</td>\n",
       "    </tr>\n",
       "    <tr>\n",
       "      <th>342</th>\n",
       "      <td>343</td>\n",
       "      <td>Chinstrap</td>\n",
       "      <td>Dream</td>\n",
       "      <td>50.8</td>\n",
       "      <td>19.0</td>\n",
       "      <td>210.0</td>\n",
       "      <td>4100.0</td>\n",
       "      <td>male</td>\n",
       "      <td>2009</td>\n",
       "      <td>4.10</td>\n",
       "    </tr>\n",
       "    <tr>\n",
       "      <th>343</th>\n",
       "      <td>344</td>\n",
       "      <td>Chinstrap</td>\n",
       "      <td>Dream</td>\n",
       "      <td>50.2</td>\n",
       "      <td>18.7</td>\n",
       "      <td>198.0</td>\n",
       "      <td>3775.0</td>\n",
       "      <td>female</td>\n",
       "      <td>2009</td>\n",
       "      <td>3.78</td>\n",
       "    </tr>\n",
       "  </tbody>\n",
       "</table>\n",
       "<p>344 rows × 10 columns</p>\n",
       "</div>"
      ],
      "text/plain": [
       "     rowid    species     island  bill_length_mm  bill_depth_mm  \\\n",
       "0        1     Adelie  Torgersen            39.1           18.7   \n",
       "1        2     Adelie  Torgersen            39.5           17.4   \n",
       "2        3     Adelie  Torgersen            40.3           18.0   \n",
       "3        4     Adelie  Torgersen             NaN            NaN   \n",
       "4        5     Adelie  Torgersen            36.7           19.3   \n",
       "..     ...        ...        ...             ...            ...   \n",
       "339    340  Chinstrap      Dream            55.8           19.8   \n",
       "340    341  Chinstrap      Dream            43.5           18.1   \n",
       "341    342  Chinstrap      Dream            49.6           18.2   \n",
       "342    343  Chinstrap      Dream            50.8           19.0   \n",
       "343    344  Chinstrap      Dream            50.2           18.7   \n",
       "\n",
       "     flipper_length_mm  body_mass_g     sex  year  weight  \n",
       "0                181.0       3750.0    male  2007    3.75  \n",
       "1                186.0       3800.0  female  2007    3.80  \n",
       "2                195.0       3250.0  female  2007    3.25  \n",
       "3                  NaN          NaN     NaN  2007     NaN  \n",
       "4                193.0       3450.0  female  2007    3.45  \n",
       "..                 ...          ...     ...   ...     ...  \n",
       "339              207.0       4000.0    male  2009    4.00  \n",
       "340              202.0       3400.0  female  2009    3.40  \n",
       "341              193.0       3775.0    male  2009    3.78  \n",
       "342              210.0       4100.0    male  2009    4.10  \n",
       "343              198.0       3775.0  female  2009    3.78  \n",
       "\n",
       "[344 rows x 10 columns]"
      ]
     },
     "execution_count": 39,
     "metadata": {},
     "output_type": "execute_result"
    }
   ],
   "source": [
    "birds"
   ]
  },
  {
   "cell_type": "code",
   "execution_count": 40,
   "id": "1da4c67d-e876-424e-8848-37001cca1d1a",
   "metadata": {},
   "outputs": [
    {
     "data": {
      "text/html": [
       "<div>\n",
       "<style scoped>\n",
       "    .dataframe tbody tr th:only-of-type {\n",
       "        vertical-align: middle;\n",
       "    }\n",
       "\n",
       "    .dataframe tbody tr th {\n",
       "        vertical-align: top;\n",
       "    }\n",
       "\n",
       "    .dataframe thead th {\n",
       "        text-align: right;\n",
       "    }\n",
       "</style>\n",
       "<table border=\"1\" class=\"dataframe\">\n",
       "  <thead>\n",
       "    <tr style=\"text-align: right;\">\n",
       "      <th></th>\n",
       "      <th>rowid</th>\n",
       "      <th>species</th>\n",
       "      <th>island</th>\n",
       "      <th>bill_length_mm</th>\n",
       "      <th>bill_depth_mm</th>\n",
       "      <th>flipper_length_mm</th>\n",
       "      <th>body_mass_g</th>\n",
       "      <th>sex</th>\n",
       "      <th>year</th>\n",
       "      <th>weight</th>\n",
       "    </tr>\n",
       "  </thead>\n",
       "  <tbody>\n",
       "    <tr>\n",
       "      <th>0</th>\n",
       "      <td>False</td>\n",
       "      <td>False</td>\n",
       "      <td>False</td>\n",
       "      <td>False</td>\n",
       "      <td>False</td>\n",
       "      <td>False</td>\n",
       "      <td>False</td>\n",
       "      <td>False</td>\n",
       "      <td>False</td>\n",
       "      <td>False</td>\n",
       "    </tr>\n",
       "    <tr>\n",
       "      <th>1</th>\n",
       "      <td>False</td>\n",
       "      <td>False</td>\n",
       "      <td>False</td>\n",
       "      <td>False</td>\n",
       "      <td>False</td>\n",
       "      <td>False</td>\n",
       "      <td>False</td>\n",
       "      <td>False</td>\n",
       "      <td>False</td>\n",
       "      <td>False</td>\n",
       "    </tr>\n",
       "    <tr>\n",
       "      <th>2</th>\n",
       "      <td>False</td>\n",
       "      <td>False</td>\n",
       "      <td>False</td>\n",
       "      <td>False</td>\n",
       "      <td>False</td>\n",
       "      <td>False</td>\n",
       "      <td>False</td>\n",
       "      <td>False</td>\n",
       "      <td>False</td>\n",
       "      <td>False</td>\n",
       "    </tr>\n",
       "    <tr>\n",
       "      <th>3</th>\n",
       "      <td>False</td>\n",
       "      <td>False</td>\n",
       "      <td>False</td>\n",
       "      <td>True</td>\n",
       "      <td>True</td>\n",
       "      <td>True</td>\n",
       "      <td>True</td>\n",
       "      <td>True</td>\n",
       "      <td>False</td>\n",
       "      <td>True</td>\n",
       "    </tr>\n",
       "    <tr>\n",
       "      <th>4</th>\n",
       "      <td>False</td>\n",
       "      <td>False</td>\n",
       "      <td>False</td>\n",
       "      <td>False</td>\n",
       "      <td>False</td>\n",
       "      <td>False</td>\n",
       "      <td>False</td>\n",
       "      <td>False</td>\n",
       "      <td>False</td>\n",
       "      <td>False</td>\n",
       "    </tr>\n",
       "    <tr>\n",
       "      <th>...</th>\n",
       "      <td>...</td>\n",
       "      <td>...</td>\n",
       "      <td>...</td>\n",
       "      <td>...</td>\n",
       "      <td>...</td>\n",
       "      <td>...</td>\n",
       "      <td>...</td>\n",
       "      <td>...</td>\n",
       "      <td>...</td>\n",
       "      <td>...</td>\n",
       "    </tr>\n",
       "    <tr>\n",
       "      <th>339</th>\n",
       "      <td>False</td>\n",
       "      <td>False</td>\n",
       "      <td>False</td>\n",
       "      <td>False</td>\n",
       "      <td>False</td>\n",
       "      <td>False</td>\n",
       "      <td>False</td>\n",
       "      <td>False</td>\n",
       "      <td>False</td>\n",
       "      <td>False</td>\n",
       "    </tr>\n",
       "    <tr>\n",
       "      <th>340</th>\n",
       "      <td>False</td>\n",
       "      <td>False</td>\n",
       "      <td>False</td>\n",
       "      <td>False</td>\n",
       "      <td>False</td>\n",
       "      <td>False</td>\n",
       "      <td>False</td>\n",
       "      <td>False</td>\n",
       "      <td>False</td>\n",
       "      <td>False</td>\n",
       "    </tr>\n",
       "    <tr>\n",
       "      <th>341</th>\n",
       "      <td>False</td>\n",
       "      <td>False</td>\n",
       "      <td>False</td>\n",
       "      <td>False</td>\n",
       "      <td>False</td>\n",
       "      <td>False</td>\n",
       "      <td>False</td>\n",
       "      <td>False</td>\n",
       "      <td>False</td>\n",
       "      <td>False</td>\n",
       "    </tr>\n",
       "    <tr>\n",
       "      <th>342</th>\n",
       "      <td>False</td>\n",
       "      <td>False</td>\n",
       "      <td>False</td>\n",
       "      <td>False</td>\n",
       "      <td>False</td>\n",
       "      <td>False</td>\n",
       "      <td>False</td>\n",
       "      <td>False</td>\n",
       "      <td>False</td>\n",
       "      <td>False</td>\n",
       "    </tr>\n",
       "    <tr>\n",
       "      <th>343</th>\n",
       "      <td>False</td>\n",
       "      <td>False</td>\n",
       "      <td>False</td>\n",
       "      <td>False</td>\n",
       "      <td>False</td>\n",
       "      <td>False</td>\n",
       "      <td>False</td>\n",
       "      <td>False</td>\n",
       "      <td>False</td>\n",
       "      <td>False</td>\n",
       "    </tr>\n",
       "  </tbody>\n",
       "</table>\n",
       "<p>344 rows × 10 columns</p>\n",
       "</div>"
      ],
      "text/plain": [
       "     rowid  species  island  bill_length_mm  bill_depth_mm  flipper_length_mm  \\\n",
       "0    False    False   False           False          False              False   \n",
       "1    False    False   False           False          False              False   \n",
       "2    False    False   False           False          False              False   \n",
       "3    False    False   False            True           True               True   \n",
       "4    False    False   False           False          False              False   \n",
       "..     ...      ...     ...             ...            ...                ...   \n",
       "339  False    False   False           False          False              False   \n",
       "340  False    False   False           False          False              False   \n",
       "341  False    False   False           False          False              False   \n",
       "342  False    False   False           False          False              False   \n",
       "343  False    False   False           False          False              False   \n",
       "\n",
       "     body_mass_g    sex   year  weight  \n",
       "0          False  False  False   False  \n",
       "1          False  False  False   False  \n",
       "2          False  False  False   False  \n",
       "3           True   True  False    True  \n",
       "4          False  False  False   False  \n",
       "..           ...    ...    ...     ...  \n",
       "339        False  False  False   False  \n",
       "340        False  False  False   False  \n",
       "341        False  False  False   False  \n",
       "342        False  False  False   False  \n",
       "343        False  False  False   False  \n",
       "\n",
       "[344 rows x 10 columns]"
      ]
     },
     "execution_count": 40,
     "metadata": {},
     "output_type": "execute_result"
    }
   ],
   "source": [
    "birds.isnull()"
   ]
  },
  {
   "cell_type": "code",
   "execution_count": 41,
   "id": "dfa8285f-d76c-47f0-b59c-f0dde0d20409",
   "metadata": {},
   "outputs": [
    {
     "data": {
      "text/plain": [
       "rowid                 0\n",
       "species               0\n",
       "island                0\n",
       "bill_length_mm        2\n",
       "bill_depth_mm         2\n",
       "flipper_length_mm     2\n",
       "body_mass_g           2\n",
       "sex                  11\n",
       "year                  0\n",
       "weight                2\n",
       "dtype: int64"
      ]
     },
     "execution_count": 41,
     "metadata": {},
     "output_type": "execute_result"
    }
   ],
   "source": [
    "birds.isnull().sum()"
   ]
  },
  {
   "cell_type": "code",
   "execution_count": 42,
   "id": "2d7a46e4-ab85-4f83-af53-64afdd42cb86",
   "metadata": {},
   "outputs": [
    {
     "data": {
      "text/plain": [
       "np.float64(4201.754385964912)"
      ]
     },
     "execution_count": 42,
     "metadata": {},
     "output_type": "execute_result"
    }
   ],
   "source": [
    "birds ['body_mass_g'].mean()"
   ]
  },
  {
   "cell_type": "code",
   "execution_count": 43,
   "id": "7051f475-9c5a-4732-902a-67996642c7f3",
   "metadata": {},
   "outputs": [
    {
     "data": {
      "text/plain": [
       "np.float64(4050.0)"
      ]
     },
     "execution_count": 43,
     "metadata": {},
     "output_type": "execute_result"
    }
   ],
   "source": [
    "birds ['body_mass_g'].median()"
   ]
  },
  {
   "cell_type": "code",
   "execution_count": 44,
   "id": "5fb11e81-e417-441b-802d-a58d8f709c35",
   "metadata": {},
   "outputs": [
    {
     "data": {
      "text/plain": [
       "0    3800.0\n",
       "Name: body_mass_g, dtype: float64"
      ]
     },
     "execution_count": 44,
     "metadata": {},
     "output_type": "execute_result"
    }
   ],
   "source": [
    "birds ['body_mass_g'].mode()"
   ]
  },
  {
   "cell_type": "raw",
   "id": "cd795964-aefe-4e89-894f-b5934f23b049",
   "metadata": {},
   "source": [
    "birds['bill_length_mm'] = birds['bill_length_mm'].fillna(birds['bill_length_mm'].mean()[0])\n"
   ]
  },
  {
   "cell_type": "code",
   "execution_count": 46,
   "id": "67672d30-3e84-4b55-88ba-04eafd649d4f",
   "metadata": {},
   "outputs": [
    {
     "data": {
      "text/plain": [
       "rowid                 0\n",
       "species               0\n",
       "island                0\n",
       "bill_length_mm        2\n",
       "bill_depth_mm         2\n",
       "flipper_length_mm     2\n",
       "body_mass_g           2\n",
       "sex                  11\n",
       "year                  0\n",
       "weight                2\n",
       "dtype: int64"
      ]
     },
     "execution_count": 46,
     "metadata": {},
     "output_type": "execute_result"
    }
   ],
   "source": [
    "birds.isnull().sum()"
   ]
  },
  {
   "cell_type": "code",
   "execution_count": 47,
   "id": "9b74667a-ce33-4194-9871-5cb682df4592",
   "metadata": {},
   "outputs": [],
   "source": [
    "birds['year'] = birds['year'].astype('category')"
   ]
  },
  {
   "cell_type": "code",
   "execution_count": 48,
   "id": "5173d56e-a635-45b8-aa54-7d8015b899cb",
   "metadata": {},
   "outputs": [
    {
     "data": {
      "text/plain": [
       "<bound method DataFrame.info of      rowid    species     island  bill_length_mm  bill_depth_mm  \\\n",
       "0        1     Adelie  Torgersen            39.1           18.7   \n",
       "1        2     Adelie  Torgersen            39.5           17.4   \n",
       "2        3     Adelie  Torgersen            40.3           18.0   \n",
       "3        4     Adelie  Torgersen             NaN            NaN   \n",
       "4        5     Adelie  Torgersen            36.7           19.3   \n",
       "..     ...        ...        ...             ...            ...   \n",
       "339    340  Chinstrap      Dream            55.8           19.8   \n",
       "340    341  Chinstrap      Dream            43.5           18.1   \n",
       "341    342  Chinstrap      Dream            49.6           18.2   \n",
       "342    343  Chinstrap      Dream            50.8           19.0   \n",
       "343    344  Chinstrap      Dream            50.2           18.7   \n",
       "\n",
       "     flipper_length_mm  body_mass_g     sex  year  weight  \n",
       "0                181.0       3750.0    male  2007    3.75  \n",
       "1                186.0       3800.0  female  2007    3.80  \n",
       "2                195.0       3250.0  female  2007    3.25  \n",
       "3                  NaN          NaN     NaN  2007     NaN  \n",
       "4                193.0       3450.0  female  2007    3.45  \n",
       "..                 ...          ...     ...   ...     ...  \n",
       "339              207.0       4000.0    male  2009    4.00  \n",
       "340              202.0       3400.0  female  2009    3.40  \n",
       "341              193.0       3775.0    male  2009    3.78  \n",
       "342              210.0       4100.0    male  2009    4.10  \n",
       "343              198.0       3775.0  female  2009    3.78  \n",
       "\n",
       "[344 rows x 10 columns]>"
      ]
     },
     "execution_count": 48,
     "metadata": {},
     "output_type": "execute_result"
    }
   ],
   "source": [
    "birds.info"
   ]
  },
  {
   "cell_type": "code",
   "execution_count": 49,
   "id": "25f78ff1-f4bb-4a7d-b35e-1474ad81089e",
   "metadata": {},
   "outputs": [],
   "source": [
    "birds['species'] = birds['species'].astype('category')"
   ]
  },
  {
   "cell_type": "code",
   "execution_count": 50,
   "id": "0bf26839-6200-44fa-80bc-8302f76ca29d",
   "metadata": {},
   "outputs": [
    {
     "name": "stdout",
     "output_type": "stream",
     "text": [
      "<class 'pandas.core.frame.DataFrame'>\n",
      "RangeIndex: 344 entries, 0 to 343\n",
      "Data columns (total 10 columns):\n",
      " #   Column             Non-Null Count  Dtype   \n",
      "---  ------             --------------  -----   \n",
      " 0   rowid              344 non-null    int64   \n",
      " 1   species            344 non-null    category\n",
      " 2   island             344 non-null    object  \n",
      " 3   bill_length_mm     342 non-null    float64 \n",
      " 4   bill_depth_mm      342 non-null    float64 \n",
      " 5   flipper_length_mm  342 non-null    float64 \n",
      " 6   body_mass_g        342 non-null    float64 \n",
      " 7   sex                333 non-null    object  \n",
      " 8   year               344 non-null    category\n",
      " 9   weight             342 non-null    float64 \n",
      "dtypes: category(2), float64(5), int64(1), object(2)\n",
      "memory usage: 22.6+ KB\n"
     ]
    }
   ],
   "source": [
    "birds.info()"
   ]
  },
  {
   "cell_type": "code",
   "execution_count": 51,
   "id": "9bc0801f-b133-4639-aeb1-2e83bb7f02a4",
   "metadata": {},
   "outputs": [],
   "source": [
    "birds['rowid'] = birds['rowid'].astype('category')"
   ]
  },
  {
   "cell_type": "code",
   "execution_count": 52,
   "id": "323b0e07-df6d-4035-a264-a7ce1ebb2cf2",
   "metadata": {},
   "outputs": [
    {
     "data": {
      "text/plain": [
       "rowid                 0\n",
       "species               0\n",
       "island                0\n",
       "bill_length_mm        2\n",
       "bill_depth_mm         2\n",
       "flipper_length_mm     2\n",
       "body_mass_g           2\n",
       "sex                  11\n",
       "year                  0\n",
       "weight                2\n",
       "dtype: int64"
      ]
     },
     "execution_count": 52,
     "metadata": {},
     "output_type": "execute_result"
    }
   ],
   "source": [
    "birds.isnull().sum()"
   ]
  },
  {
   "cell_type": "code",
   "execution_count": 53,
   "id": "c2ac6a89-8349-4a9e-93b8-9d4314f948b5",
   "metadata": {},
   "outputs": [],
   "source": [
    "birds['bill_length_mm'] = birds['bill_length_mm'].fillna(birds['bill_length_mm'].mode()[0])\n"
   ]
  },
  {
   "cell_type": "code",
   "execution_count": 54,
   "id": "1b857e3e-e749-45e5-af49-c4948fa579ff",
   "metadata": {},
   "outputs": [
    {
     "data": {
      "text/plain": [
       "rowid                 0\n",
       "species               0\n",
       "island                0\n",
       "bill_length_mm        0\n",
       "bill_depth_mm         2\n",
       "flipper_length_mm     2\n",
       "body_mass_g           2\n",
       "sex                  11\n",
       "year                  0\n",
       "weight                2\n",
       "dtype: int64"
      ]
     },
     "execution_count": 54,
     "metadata": {},
     "output_type": "execute_result"
    }
   ],
   "source": [
    "birds.isnull().sum()"
   ]
  },
  {
   "cell_type": "code",
   "execution_count": 55,
   "id": "f80d2ebc-5a75-40ce-bfdc-ad3bcc73d495",
   "metadata": {},
   "outputs": [],
   "source": [
    "birds['bill_depth_mm'] = birds['bill_depth_mm'].fillna(birds['bill_depth_mm'].mode()[0])\n"
   ]
  },
  {
   "cell_type": "code",
   "execution_count": 56,
   "id": "22c7d458-5ffc-4da3-919f-656bf5f34bd1",
   "metadata": {},
   "outputs": [
    {
     "data": {
      "text/plain": [
       "rowid                 0\n",
       "species               0\n",
       "island                0\n",
       "bill_length_mm        0\n",
       "bill_depth_mm         0\n",
       "flipper_length_mm     2\n",
       "body_mass_g           2\n",
       "sex                  11\n",
       "year                  0\n",
       "weight                2\n",
       "dtype: int64"
      ]
     },
     "execution_count": 56,
     "metadata": {},
     "output_type": "execute_result"
    }
   ],
   "source": [
    "birds.isnull().sum()"
   ]
  },
  {
   "cell_type": "code",
   "execution_count": 57,
   "id": "56b69a06-86aa-4daf-911f-a099e7923476",
   "metadata": {},
   "outputs": [],
   "source": [
    "birds['flipper_length_mm'] = birds['flipper_length_mm'].fillna(birds['flipper_length_mm'].mode()[0])\n"
   ]
  },
  {
   "cell_type": "code",
   "execution_count": 58,
   "id": "b1092590-56f3-4b81-9bb1-d5ae07ba0a0e",
   "metadata": {},
   "outputs": [
    {
     "data": {
      "text/plain": [
       "rowid                 0\n",
       "species               0\n",
       "island                0\n",
       "bill_length_mm        0\n",
       "bill_depth_mm         0\n",
       "flipper_length_mm     0\n",
       "body_mass_g           2\n",
       "sex                  11\n",
       "year                  0\n",
       "weight                2\n",
       "dtype: int64"
      ]
     },
     "execution_count": 58,
     "metadata": {},
     "output_type": "execute_result"
    }
   ],
   "source": [
    "birds.isnull().sum()"
   ]
  },
  {
   "cell_type": "code",
   "execution_count": 59,
   "id": "e44d7244-ab36-44df-9968-6ef3fe83c2bf",
   "metadata": {},
   "outputs": [],
   "source": [
    "birds['body_mass_g'] = birds['body_mass_g'].fillna(birds['body_mass_g'].mode()[0])\n"
   ]
  },
  {
   "cell_type": "code",
   "execution_count": 60,
   "id": "3449509e-2257-4405-b759-91fc6943b5ac",
   "metadata": {},
   "outputs": [
    {
     "data": {
      "text/plain": [
       "rowid                 0\n",
       "species               0\n",
       "island                0\n",
       "bill_length_mm        0\n",
       "bill_depth_mm         0\n",
       "flipper_length_mm     0\n",
       "body_mass_g           0\n",
       "sex                  11\n",
       "year                  0\n",
       "weight                2\n",
       "dtype: int64"
      ]
     },
     "execution_count": 60,
     "metadata": {},
     "output_type": "execute_result"
    }
   ],
   "source": [
    "birds.isnull().sum()"
   ]
  },
  {
   "cell_type": "code",
   "execution_count": 61,
   "id": "7afaafbf-9a88-4bf0-9c56-d679465331e7",
   "metadata": {},
   "outputs": [],
   "source": [
    "birds['sex'] = birds['sex'].fillna(birds['sex'].mode()[0])\n"
   ]
  },
  {
   "cell_type": "code",
   "execution_count": 62,
   "id": "c97b3cdb-f417-4fbb-9720-c7fb715f7bd6",
   "metadata": {},
   "outputs": [
    {
     "data": {
      "text/plain": [
       "rowid                0\n",
       "species              0\n",
       "island               0\n",
       "bill_length_mm       0\n",
       "bill_depth_mm        0\n",
       "flipper_length_mm    0\n",
       "body_mass_g          0\n",
       "sex                  0\n",
       "year                 0\n",
       "weight               2\n",
       "dtype: int64"
      ]
     },
     "execution_count": 62,
     "metadata": {},
     "output_type": "execute_result"
    }
   ],
   "source": [
    "birds.isnull().sum()"
   ]
  },
  {
   "cell_type": "code",
   "execution_count": 63,
   "id": "78f86f92-db6f-4f8e-a5ef-efb8af9ffd39",
   "metadata": {},
   "outputs": [],
   "source": [
    "birds['weight'] = birds['weight'].fillna(birds['weight'].mode()[0])\n"
   ]
  },
  {
   "cell_type": "code",
   "execution_count": 64,
   "id": "07c00a98-fb3e-4963-b0f3-464d38cfb85d",
   "metadata": {},
   "outputs": [
    {
     "data": {
      "text/plain": [
       "rowid                0\n",
       "species              0\n",
       "island               0\n",
       "bill_length_mm       0\n",
       "bill_depth_mm        0\n",
       "flipper_length_mm    0\n",
       "body_mass_g          0\n",
       "sex                  0\n",
       "year                 0\n",
       "weight               0\n",
       "dtype: int64"
      ]
     },
     "execution_count": 64,
     "metadata": {},
     "output_type": "execute_result"
    }
   ],
   "source": [
    "birds.isnull().sum()"
   ]
  },
  {
   "cell_type": "code",
   "execution_count": 67,
   "id": "76e1f71a-da94-46be-b6c2-93cec691901d",
   "metadata": {},
   "outputs": [
    {
     "data": {
      "text/plain": [
       "rowid                68\n",
       "species              68\n",
       "island               68\n",
       "bill_length_mm       68\n",
       "bill_depth_mm        68\n",
       "flipper_length_mm    68\n",
       "body_mass_g          68\n",
       "sex                  68\n",
       "year                 68\n",
       "weight               68\n",
       "dtype: int64"
      ]
     },
     "execution_count": 67,
     "metadata": {},
     "output_type": "execute_result"
    }
   ],
   "source": [
    "birds[birds['species'] == \"Chinstrap\"].count()"
   ]
  },
  {
   "cell_type": "code",
   "execution_count": null,
   "id": "274a28d3-c0ea-47dc-a084-d28c6494ad47",
   "metadata": {},
   "outputs": [],
   "source": [
    "birds['rowid'] = birds['rowid'].astype('category')"
   ]
  },
  {
   "cell_type": "code",
   "execution_count": null,
   "id": "7d517dcd-46b7-4749-807e-cb6967d8e9ac",
   "metadata": {},
   "outputs": [],
   "source": []
  },
  {
   "cell_type": "code",
   "execution_count": null,
   "id": "642c7cf0-0a26-4f67-8681-867b5b927cbb",
   "metadata": {},
   "outputs": [],
   "source": []
  },
  {
   "cell_type": "code",
   "execution_count": null,
   "id": "06531fab-985c-4e11-afef-e8ca535ad786",
   "metadata": {},
   "outputs": [],
   "source": []
  }
 ],
 "metadata": {
  "kernelspec": {
   "display_name": "Python 3 (ipykernel)",
   "language": "python",
   "name": "python3"
  },
  "language_info": {
   "codemirror_mode": {
    "name": "ipython",
    "version": 3
   },
   "file_extension": ".py",
   "mimetype": "text/x-python",
   "name": "python",
   "nbconvert_exporter": "python",
   "pygments_lexer": "ipython3",
   "version": "3.13.1"
  }
 },
 "nbformat": 4,
 "nbformat_minor": 5
}
